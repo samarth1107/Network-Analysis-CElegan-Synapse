{
 "cells": [
  {
   "cell_type": "markdown",
   "id": "7855a258",
   "metadata": {},
   "source": [
    "# Header files"
   ]
  },
  {
   "cell_type": "code",
   "execution_count": 259,
   "id": "b2481146",
   "metadata": {},
   "outputs": [],
   "source": [
    "import pandas as pd \n",
    "import numpy as np\n",
    "import networkx as nx \n",
    "import matplotlib.pyplot as plt\n",
    "from scipy.interpolate import Rbf\n",
    "from collections import Counter"
   ]
  },
  {
   "cell_type": "markdown",
   "id": "a96112f1",
   "metadata": {},
   "source": [
    "# Type of cells and neurons"
   ]
  },
  {
   "cell_type": "code",
   "execution_count": 2,
   "id": "4555838f",
   "metadata": {},
   "outputs": [],
   "source": [
    "def ntype(n):\n",
    "    n = nclass(n)\n",
    "    if n not in neuron_list:\n",
    "        n = nclass(class_members(n)[0])\n",
    "\n",
    "    if n in (\n",
    "        'ADF', 'ADL', 'AFD', 'ALM', 'ALN', 'AQR', 'ASE', 'ASG', 'ASH', 'ASI',\n",
    "        'ASJ', 'ASK', 'AUA', 'AVM', 'AWA', 'AWB', 'AWC', 'BAG', 'DVA', 'FLP',\n",
    "        'IL2', 'OLL', 'OLQ', 'PHA', 'PHB', 'PHC', 'PLM', 'PLN', 'PQR', 'PVD',\n",
    "        'PVM', 'SAA', 'SDQ', 'URB', 'URX', 'URY'\n",
    "    ):\n",
    "        return 'sensory'\n",
    "    if n in (\n",
    "        'ADA', 'AIA', 'AIB', 'AIN', 'AIY', 'AIZ', 'AVA', 'AVB', 'AVD', 'AVE',\n",
    "        'AVG', 'BDU', 'LUA', 'PVC', 'PVP', 'PVR', 'PVT', 'PVW',\n",
    "        'RIA', 'RIB', 'RIF', 'RIG', 'RIH', 'RIM', 'RIR', 'RIP', 'AVJ',\n",
    "    ):\n",
    "        return 'inter'\n",
    "    if n in (\n",
    "        'ASn', 'DAn', 'DBn', 'DDn', 'DVB', 'IL1', 'PDA', 'PDB', 'RIV', 'RMD',\n",
    "        'RME', 'RMF', 'RMH', 'SAB', 'SIA', 'SIB', 'SMB', 'SMD', 'URA', 'VAn',\n",
    "        'VBn', 'VCn', 'VDn',\n",
    "    ):\n",
    "        return 'motor'\n",
    "    if n in (\n",
    "        'ADE', 'AIM', 'ALA', 'AVF', 'AVH', 'AVK', 'AVL', 'CEP', 'HSN',\n",
    "        'PDE', 'PVQ', 'PVN', 'RIC', 'RID', 'RIS', 'RMG', 'DVC',\n",
    "    ):\n",
    "        return 'modulatory'\n",
    "    if n in (\n",
    "        'BWM01', 'BWM02', 'BWM03', 'BWM04', 'BWM05', 'BWM06', 'BWM07', 'BWM08'\n",
    "    ):\n",
    "        return 'muscle'\n",
    "    if n in ('CAN', 'CEPsh', 'GLR', 'excgl', 'hyp'):\n",
    "        return 'other'\n",
    "    print(n, 'is not a valid neuron')\n",
    "    return 'nonvalid'"
   ]
  },
  {
   "cell_type": "markdown",
   "id": "be851f30",
   "metadata": {},
   "source": [
    "# File imports"
   ]
  },
  {
   "cell_type": "code",
   "execution_count": 70,
   "id": "b9d4401a",
   "metadata": {},
   "outputs": [],
   "source": [
    "all_datasets = ('Dataset1', 'Dataset2', 'Dataset3', 'Dataset4', 'Dataset5', 'Dataset6', 'Dataset7', 'Dataset8')\n",
    "\n",
    "Node_name = ['ADFL','ADFR','ADLL','ADLR','AFDL','AFDR','ALML','ALMR','ALNL','ALNR','AQR','ASEL','ASER','ASGL','ASGR','ASHL','ASHR','ASIL','ASIR','ASJL','ASJR','ASKL','ASKR','AUAL','AUAR','AVM','AWAL','AWAR','AWBL','AWBR','AWCL','AWCR','BAGL','BAGR','DVA','FLPL','FLPR','IL2DL','IL2DR','IL2L','IL2R','IL2VL','IL2VR','OLLL','OLLR','OLQDL','OLQDR','OLQVL','OLQVR','PLNL','PLNR','SAADL','SAADR','SAAVL','SAAVR','SDQL','SDQR','URBL','URBR','URXL','URXR','URYDL','URYDR','URYVL','URYVR','ADAL','ADAR','AIAL','AIAR','AIBL','AIBR','AINL','AINR','AIYL','AIYR','AIZL','AIZR','AVAL','AVAR','AVBL',\n",
    "             'AVBR','AVDL','AVDR','AVEL','AVER','AVJL','AVJR','BDUL','BDUR','PVCL','PVCR','PVPL','PVPR','PVR','PVT','RIAL','RIAR','RIBL','RIBR','RIFL','RIFR','RIGL','RIGR','RIH','RIML','RIMR','RIPL','RIPR','RIR','IL1DL','IL1DR','IL1L','IL1R','IL1VL','IL1VR','RIVL','RIVR','RMDDL','RMDDR','RMDL','RMDR','RMDVL','RMDVR','RMED','RMEL','RMER','RMEV','RMFL','RMFR','RMHL','RMHR','SIADL','SIADR','SIAVL','SIAVR','SIBDL','SIBDR','SIBVL','SIBVR','SMBDL','SMBDR','SMBVL','SMBVR','SMDDL','SMDDR','SMDVL','SMDVR','URADL','URADR','URAVL','URAVR','ADEL','ADER','AIML','AIMR','ALA','AVFL','AVFR','AVHL',\n",
    "             'AVHR','AVKL','AVKR','AVL','CEPDL','CEPDR','CEPVL','CEPVR','DVC','HSNL','HSNR','PVNL','PVNR','PVQL','PVQR','RICL','RICR','RID','RIS','RMGL','RMGR','BWM-DL01','BWM-DR01','BWM-VL01','BWM-VR01','BWM-DL02','BWM-DR02','BWM-VL02','BWM-VR02','BWM-DL03','BWM-DR03','BWM-VL03','BWM-VR03','BWM-DL04','BWM-DR04','BWM-VL04','BWM-VR04','BWM-DL05','BWM-DR05','BWM-VL05','BWM-VR05','BWM-DL06','BWM-DR06','BWM-VL06','BWM-VR06','BWM-DL07','BWM-DR07','BWM-VL07','BWM-VR07','BWM-DL08','BWM-DR08','BWM-VL08','BWM-VR08','CANL','CANR','CEPshDL','CEPshDR','CEPshVL','CEPshVR','GLRDL','GLRDR','GLRL','GLRR','GLRVL','GLRVR']\n",
    "\n",
    "Post_emb = ['ALNL','ALNR','AQR','AVM','PLNL','PLNR','SDQL','SDQR','RMFL','RMFR','RMHL','RMHR','AVFL','AVFR','HSNL','HSNR','PVNL','PVNR']\n",
    "\n",
    "timepoint = {\n",
    "    'Dataset1': 0,\n",
    "    'Dataset2': 5,\n",
    "    'Dataset3': 8,\n",
    "    'Dataset4': 16,\n",
    "    'Dataset5': 23,\n",
    "    'Dataset6': 27,\n",
    "    'Dataset7': 50,\n",
    "    'Dataset8': 50,\n",
    "}\n",
    "\n",
    "stage = {   \n",
    "    'Dataset1': 'L1',\n",
    "    'Dataset2': 'L1',\n",
    "    'Dataset3': 'L1',\n",
    "    'Dataset4': 'L1',\n",
    "    'Dataset5': 'L2',\n",
    "    'Dataset6': 'L3',\n",
    "    'Dataset7': 'Adult',\n",
    "    'Dataset8': 'Adult'\n",
    "}\n",
    "\n",
    "larval_stage_ends = [0, 16, 25, 34, 45]\n",
    "larval_stage_mids = [8, 20.5, 29.5, 39.5, 50]\n",
    "larval_stage_labels = ['L1', 'L2', 'L3', 'L4', '  Adult']\n",
    "\n",
    "data = []\n",
    "data.append('Synapse raw data')\n",
    "\n",
    "for dataset_number in range(1, 9):\n",
    "    data.append(pd.read_excel('media-2.xlsx', sheet_name=f\"Dataset{dataset_number}\", \n",
    "                              index_col=0, header=2, \n",
    "                              skiprows=[3], usecols=range(2,183)))\n",
    "    for i in Node_name[180:]:\n",
    "        data[-1][i] = 0"
   ]
  },
  {
   "cell_type": "code",
   "execution_count": 4,
   "id": "1f36a10e",
   "metadata": {},
   "outputs": [],
   "source": [
    "nx_G = []\n",
    "nx_G.append('Synapse networkx data')\n",
    "\n",
    "for dataset_number in range(1, 9):    \n",
    "    nx_G.append(nx.from_numpy_matrix(data[dataset_number].T.values, create_using=nx.DiGraph))\n",
    "    \n",
    "# for dataset_number in range(1, 9):\n",
    "#     nx.write_gml(nx_G[dataset_number], f'network{dataset_number}.gml')"
   ]
  },
  {
   "cell_type": "markdown",
   "id": "6d6ad407",
   "metadata": {},
   "source": [
    "# Plots"
   ]
  },
  {
   "cell_type": "code",
   "execution_count": 238,
   "id": "8ed6b5f9",
   "metadata": {},
   "outputs": [],
   "source": [
    "def plot_graph(data, yticks, y_name, size=3):\n",
    "    fig, ax = plt.subplots(figsize=(size, size*0.75), dpi=150)\n",
    "       \n",
    "    x_ticks = list(timepoint.values())     \n",
    "    plt.scatter(x_ticks, data, zorder=2)\n",
    "    \n",
    "    min_x = 0\n",
    "    max_x = 50\n",
    "    x_new = np.linspace(min_x, max_x, 100)\n",
    "    rbf = Rbf(x_ticks, data, function = 'thin_plate', smooth = 0.1)\n",
    "    y_smooth = rbf(x_new)\n",
    "    plt.plot(x_new, y_smooth, zorder=1, color='black')\n",
    "    \n",
    "    ax.set_xlim([min_x-5, max_x+5])\n",
    "    ax.set_xticks([min_x-5])\n",
    "    ax.tick_params(axis='x', labelbottom=False)\n",
    "    ax.set_xticks(larval_stage_mids, minor=True)\n",
    "    ax.set_xticklabels(larval_stage_labels, minor=True)\n",
    "    ax.tick_params(axis='x', which='minor', bottom=False, pad=1)\n",
    "    \n",
    "    for t in larval_stage_ends:\n",
    "        plt.axvline(t, color='#999999', linestyle='dotted', linewidth=1, zorder=-1)\n",
    "    \n",
    "    ax.set_yticks(yticks)\n",
    "    \n",
    "    ax.spines['top'].set_visible(False)\n",
    "    ax.spines['right'].set_visible(False)    \n",
    "    \n",
    "    plt.ylabel(y_name)\n",
    "    plt.xlabel('Developmental age')\n",
    "    plt.show()"
   ]
  },
  {
   "cell_type": "code",
   "execution_count": 239,
   "id": "32a4aed1",
   "metadata": {},
   "outputs": [
    {
     "data": {
      "image/png": "[encoded data removed]",
      "text/plain": [
       "<Figure size 450x337.5 with 1 Axes>"
      ]
     },
     "metadata": {
      "needs_background": "light"
     },
     "output_type": "display_data"
    }
   ],
   "source": [
    "no_of_synapses = []\n",
    "for dataset_number in range(1, 9):    \n",
    "    no_of_synapses.append(sum(data[dataset_number].sum()))\n",
    "plot_graph(no_of_synapses, [0,3000,6000,9000], 'No of synapses')"
   ]
  },
  {
   "cell_type": "code",
   "execution_count": 161,
   "id": "d0570252",
   "metadata": {},
   "outputs": [
    {
     "data": {
      "image/png": "[encoded data removed]",
      "text/plain": [
       "<Figure size 450x337.5 with 1 Axes>"
      ]
     },
     "metadata": {
      "needs_background": "light"
     },
     "output_type": "display_data"
    }
   ],
   "source": [
    "connections = []\n",
    "for dataset_number in range(1, 9):    \n",
    "    connections.append(sum(data[dataset_number].drop(Post_emb, axis=1).drop(Post_emb, axis=0).astype(bool).sum()))\n",
    "plot_graph(connections, [0,1000,2000], 'Connections')"
   ]
  },
  {
   "cell_type": "code",
   "execution_count": 110,
   "id": "743c7b3f",
   "metadata": {},
   "outputs": [
    {
     "data": {
      "image/png": "[encoded data removed]",
      "text/plain": [
       "<Figure size 450x337.5 with 1 Axes>"
      ]
     },
     "metadata": {
      "needs_background": "light"
     },
     "output_type": "display_data"
    }
   ],
   "source": [
    "sum_pd_1 = data[1].drop(Post_emb, axis=1).drop(Post_emb, axis=0).sum(axis=0)\n",
    "sum_pd_2 = data[1].drop(Post_emb, axis=1).drop(Post_emb, axis=0).sum(axis=1)\n",
    "birth_neuron_from = set()\n",
    "birth_neuron_to = set()\n",
    "for ind in range(len(sum_pd)):\n",
    "    if sum_pd_1[ind]>0:\n",
    "        birth_neuron_from.add(sum_pd_1.index[ind])\n",
    "    if sum_pd_2[ind]>0:\n",
    "        birth_neuron_to.add(sum_pd_2.index[ind])\n",
    "        \n",
    "synapses_per_connection = []\n",
    "for dataset_number in range(1, 9):\n",
    "    synapses_per_connection.append(sum(data[dataset_number].loc[birth_neuron_to-set(Post_emb), birth_neuron_from-set(Post_emb)].sum())/sum(data[dataset_number][data[dataset_number]>0].loc[birth_neuron_to-set(Post_emb), birth_neuron_from-set(Post_emb)].count()))\n",
    "    \n",
    "plot_graph(synapses_per_connection, [0,4,8], 'Synapses per connection')"
   ]
  },
  {
   "cell_type": "code",
   "execution_count": 247,
   "id": "11e25396",
   "metadata": {},
   "outputs": [
    {
     "data": {
      "image/png": "[encoded data removed]",
      "text/plain": [
       "<Figure size 450x337.5 with 1 Axes>"
      ]
     },
     "metadata": {
      "needs_background": "light"
     },
     "output_type": "display_data"
    }
   ],
   "source": [
    "cytoscape_cluster_coeff =       [0.086,0.103,0.103,0.103,0.138,0.140,0.174,0.175]\n",
    "cytoscape_average_path_length = [4.457,3.744,3.762,3.705,3.257,3.375,2.863,2.873]\n",
    "\n",
    "\n",
    "fig, ax = plt.subplots(figsize=(3, 3*0.75), dpi=150)\n",
    "ax.scatter(cytoscape_cluster_coeff, cytoscape_average_path_length, zorder=2)\n",
    "ax.plot(cytoscape_cluster_coeff, cytoscape_average_path_length, zorder=1, color='black')\n",
    "\n",
    "ax.spines['top'].set_visible(False)\n",
    "ax.spines['right'].set_visible(False)  \n",
    "\n",
    "for i, txt in enumerate([' L1', '', ' L1', '', ' L2', '  L3', '  A', '']):\n",
    "    ax.annotate(txt, (cytoscape_cluster_coeff[i], cytoscape_average_path_length[i]), fontsize=10)\n",
    "    \n",
    "plt.ylabel('Average path length')\n",
    "plt.xlabel('Average cluster coefficient')\n",
    "    \n",
    "plt.show()"
   ]
  },
  {
   "cell_type": "code",
   "execution_count": 264,
   "id": "3c84c78b",
   "metadata": {},
   "outputs": [
    {
     "data": {
      "text/plain": [
       "19"
      ]
     },
     "execution_count": 264,
     "metadata": {},
     "output_type": "execute_result"
    }
   ],
   "source": [
    "max(dict(nx_G[1].in_degree()).values())"
   ]
  },
  {
   "cell_type": "code",
   "execution_count": 262,
   "id": "09c4d5b1",
   "metadata": {},
   "outputs": [],
   "source": [
    "def plot_degree_distribution(degrees, max_degree, xfreg=1):\n",
    "    c = Counter(degrees)\n",
    "    d = [0 for i in range(max_degree+1)]\n",
    "    \n",
    "    for i in range(max_degree+1): \n",
    "        d[i] = c[i]\n",
    "        \n",
    "    plt.plot(range(max_degree+1), d)\n",
    "    plt.bar( range(max_degree+1), d)\n",
    "    plt.xticks(range(0, max_degree+1, xfreg))\n",
    "    plt.gca().set(title='Degree distribution', ylabel='Frequency', xlabel=\"Degree\")\n",
    "    plt.show()\n",
    "    return"
   ]
  },
  {
   "cell_type": "code",
   "execution_count": 266,
   "id": "e5b8b3b8",
   "metadata": {},
   "outputs": [
    {
     "data": {
      "image/png": "[encoded data removed]",
      "text/plain": [
       "<Figure size 432x288 with 1 Axes>"
      ]
     },
     "metadata": {
      "needs_background": "light"
     },
     "output_type": "display_data"
    }
   ],
   "source": [
    "plot_degree_distribution(dict(nx_G[1].out_degree()).values(),20)"
   ]
  },
  {
   "cell_type": "code",
   "execution_count": 218,
   "id": "85af521f",
   "metadata": {
    "scrolled": true
   },
   "outputs": [
    {
     "name": "stdout",
     "output_type": "stream",
     "text": [
      "0.09097465989790472\n",
      "0.10778399246529337\n",
      "0.10781564640658516\n",
      "0.10901264537740733\n",
      "0.1440133737651729\n",
      "0.1475169855727534\n",
      "0.18184208505329846\n",
      "0.18608413815685645\n"
     ]
    }
   ],
   "source": [
    "\n",
    "for dataset_number in range(1, 9):\n",
    "    print(nx.average_clustering(nx_G[dataset_number]))"
   ]
  },
  {
   "cell_type": "code",
   "execution_count": 222,
   "id": "1fd1de7b",
   "metadata": {},
   "outputs": [
    {
     "data": {
      "text/plain": [
       "['L1', 'L1', 'L1', 'L1', 'L2', 'L3', 'Adult', 'Adult']"
      ]
     },
     "execution_count": 222,
     "metadata": {},
     "output_type": "execute_result"
    }
   ],
   "source": [
    "list(stage.values())"
   ]
  },
  {
   "cell_type": "code",
   "execution_count": 186,
   "id": "a29c9321",
   "metadata": {},
   "outputs": [],
   "source": [
    "for dataset_number in [2, 3, 4, 5, 6, 8]:\n",
    "    edges_birth = edges_birth.intersection(nx_G[dataset_number].edges())"
   ]
  },
  {
   "cell_type": "code",
   "execution_count": 217,
   "id": "b8de8f36",
   "metadata": {},
   "outputs": [],
   "source": [
    "for dataset_number in range(1, 9):\n",
    "    nx.write_gml(nx_G[dataset_number], f'network{dataset_number}.gml')"
   ]
  },
  {
   "cell_type": "code",
   "execution_count": 181,
   "id": "3e320dfe",
   "metadata": {
    "collapsed": true
   },
   "outputs": [
    {
     "data": {
      "text/plain": [
       "OutEdgeView([(0, 23), (0, 73), (0, 75), (0, 95), (0, 108), (0, 135), (0, 137), (0, 139), (0, 141), (0, 159), (1, 24), (1, 34), (1, 76), (1, 96), (1, 108), (1, 158), (2, 21), (2, 43), (2, 67), (2, 69), (2, 81), (2, 85), (3, 22), (3, 31), (3, 44), (3, 68), (3, 70), (3, 81), (3, 86), (3, 142), (4, 73), (5, 74), (6, 87), (6, 163), (7, 88), (7, 100), (7, 164), (11, 30), (11, 31), (11, 69), (11, 70), (11, 73), (11, 74), (12, 4), (12, 31), (12, 67), (12, 69), (12, 70), (12, 73), (12, 74), (12, 75), (13, 67), (13, 69), (13, 153), (14, 12), (14, 68), (14, 154), (15, 0), (15, 21), (15, 67), (15, 69), (15, 75), (15, 77), (15, 79), (15, 81), (15, 85), (15, 99), (16, 27), (16, 66), (16, 68), (16, 70), (16, 80), (16, 82), (16, 86), (16, 96), (16, 142), (16, 173), (17, 2), (17, 30), (18, 30), (18, 31), (18, 215), (19, 21), (19, 172), (19, 173), (19, 214), (19, 216), (20, 22), (20, 173), (20, 217), (21, 19), (21, 67), (22, 68), (22, 100), (23, 77), (23, 83), (23, 95), (23, 97), (24, 78), (24, 84), (24, 96), (24, 98), (26, 2), (26, 11), (26, 27), (26, 28), (26, 31), (26, 67), (26, 73), (26, 75), (27, 3), (27, 12), (27, 29), (27, 68), (27, 76), (27, 173), (28, 0), (28, 67), (28, 75), (28, 159), (29, 1), (29, 68), (29, 76), (30, 11), (30, 31), (30, 40), (30, 67), (30, 69), (30, 70), (30, 73), (30, 74), (30, 112), (31, 12), (31, 30), (31, 67), (31, 68), (31, 69), (31, 70), (31, 73), (31, 74), (31, 75), (32, 84), (32, 96), (32, 98), (32, 102), (33, 83), (33, 95), (33, 97), (33, 101), (34, 23), (34, 24), (34, 75), (34, 76), (34, 83), (34, 84), (34, 108), (34, 131), (34, 132), (34, 174), (35, 36), (35, 77), (35, 79), (35, 81), (35, 89), (35, 151), (35, 152), (36, 77), (36, 78), (36, 151), (37, 106), (37, 107), (37, 123), (37, 124), (37, 125), (37, 126), (37, 147), (38, 103), (38, 107), (38, 123), (38, 125), (38, 148), (38, 221), (39, 45), (39, 47), (39, 103), (39, 163), (40, 46), (40, 48), (40, 103), (41, 106), (41, 124), (41, 125), (41, 126), (41, 149), (42, 107), (42, 124), (42, 125), (42, 126), (42, 150), (42, 223), (43, 84), (43, 97), (43, 121), (43, 144), (43, 146), (43, 163), (43, 165), (44, 83), (44, 98), (44, 122), (44, 143), (44, 145), (44, 146), (44, 164), (45, 39), (45, 61), (45, 117), (45, 118), (45, 121), (45, 137), (45, 175), (46, 40), (46, 117), (46, 138), (46, 174), (46, 175), (47, 39), (47, 103), (47, 122), (47, 135), (47, 174), (48, 40), (48, 118), (48, 121), (48, 136), (48, 175), (51, 77), (51, 104), (51, 105), (51, 146), (52, 78), (52, 104), (52, 105), (52, 145), (53, 77), (53, 104), (53, 105), (53, 144), (54, 78), (54, 104), (54, 105), (54, 143), (57, 39), (57, 59), (57, 111), (57, 133), (57, 163), (57, 184), (57, 216), (58, 40), (58, 60), (58, 112), (58, 164), (58, 175), (58, 201), (59, 23), (59, 47), (59, 70), (59, 83), (59, 91), (59, 95), (59, 101), (59, 111), (59, 149), (59, 174), (59, 175), (59, 178), (60, 24), (60, 66), (60, 96), (60, 102), (60, 174), (60, 175), (61, 84), (61, 97), (61, 109), (61, 118), (61, 121), (61, 144), (62, 83), (62, 98), (62, 117), (62, 122), (62, 143), (63, 84), (63, 97), (63, 117), (63, 122), (63, 146), (63, 216), (64, 83), (64, 98), (64, 118), (64, 121), (64, 145), (65, 70), (65, 78), (65, 79), (65, 80), (65, 82), (65, 86), (65, 91), (65, 104), (65, 143), (65, 175), (65, 176), (66, 16), (66, 77), (66, 78), (66, 79), (66, 80), (66, 81), (66, 85), (66, 105), (66, 174), (67, 21), (67, 30), (67, 65), (67, 69), (67, 99), (67, 172), (68, 1), (68, 16), (68, 22), (68, 70), (68, 100), (69, 32), (69, 79), (69, 84), (69, 98), (69, 105), (69, 144), (69, 146), (70, 80), (70, 83), (70, 91), (70, 97), (70, 98), (70, 104), (70, 143), (70, 145), (71, 1), (71, 5), (71, 14), (71, 24), (71, 32), (71, 68), (71, 70), (71, 72), (71, 217), (72, 4), (72, 5), (72, 12), (72, 23), (72, 30), (72, 31), (72, 69), (72, 176), (72, 214), (73, 0), (73, 26), (73, 28), (73, 67), (73, 75), (73, 95), (73, 97), (73, 108), (74, 1), (74, 76), (74, 96), (74, 98), (74, 116), (74, 136), (75, 11), (75, 28), (75, 67), (75, 70), (75, 84), (75, 95), (75, 97), (75, 104), (75, 135), (75, 139), (75, 141), (76, 69), (76, 83), (76, 96), (76, 105), (76, 140), (76, 142), (85, 16), (85, 83), (85, 90), (85, 100), (85, 142), (85, 158), (86, 73), (86, 99), (87, 86), (87, 89), (87, 138), (87, 178), (88, 7), (88, 90), (89, 77), (89, 79), (89, 80), (89, 82), (89, 84), (89, 133), (89, 159), (89, 176), (90, 79), (90, 83), (90, 134), (91, 59), (91, 63), (91, 70), (91, 78), (91, 79), (91, 101), (91, 108), (91, 159), (91, 176), (92, 34), (92, 60), (92, 78), (92, 79), (92, 80), (92, 81), (92, 82), (92, 102), (92, 108), (93, 63), (93, 79), (93, 80), (93, 81), (93, 86), (93, 107), (93, 113), (93, 165), (94, 47), (94, 51), (94, 83), (94, 101), (94, 102), (94, 126), (94, 160), (94, 161), (94, 167), (94, 214), (94, 216), (95, 96), (95, 116), (95, 117), (95, 118), (95, 119), (95, 120), (95, 121), (95, 122), (95, 131), (95, 133), (95, 134), (95, 143), (95, 144), (95, 145), (95, 146), (95, 163), (96, 95), (96, 117), (96, 118), (96, 119), (96, 120), (96, 121), (96, 122), (96, 131), (96, 132), (96, 133), (96, 140), (96, 143), (96, 144), (96, 145), (96, 146), (96, 164), (96, 165), (96, 222), (97, 23), (97, 33), (97, 70), (97, 77), (97, 82), (97, 83), (97, 84), (97, 95), (97, 104), (97, 146), (97, 177), (98, 32), (98, 34), (98, 78), (98, 79), (98, 81), (98, 83), (98, 84), (98, 145), (98, 177), (99, 6), (99, 15), (99, 79), (99, 80), (99, 85), (99, 86), (99, 104), (100, 16), (100, 80), (100, 85), (100, 86), (100, 92), (100, 105), (101, 33), (101, 45), (101, 47), (101, 61), (101, 63), (101, 84), (101, 95), (101, 97), (101, 108), (101, 109), (101, 124), (101, 161), (101, 167), (101, 178), (102, 32), (102, 48), (102, 60), (102, 64), (102, 69), (102, 76), (102, 84), (102, 94), (102, 96), (102, 98), (102, 108), (102, 160), (102, 161), (102, 167), (102, 179), (102, 217), (103, 41), (103, 42), (103, 45), (103, 46), (103, 47), (103, 48), (103, 64), (103, 75), (103, 76), (103, 95), (103, 96), (103, 97), (103, 98), (103, 106), (103, 107), (103, 108), (103, 125), (103, 163), (103, 165), (103, 177), (103, 216), (103, 217), (103, 221), (103, 222), (103, 223), (104, 53), (104, 54), (104, 70), (104, 78), (104, 79), (104, 80), (104, 81), (104, 89), (104, 97), (104, 119), (104, 120), (104, 131), (104, 132), (104, 138), (104, 143), (104, 144), (104, 145), (104, 146), (104, 177), (104, 195), (105, 52), (105, 53), (105, 54), (105, 69), (105, 79), (105, 97), (105, 98), (105, 119), (105, 120), (105, 143), (105, 144), (105, 145), (105, 146), (105, 194), (108, 23), (108, 32), (108, 33), (108, 34), (108, 59), (108, 60), (108, 75), (108, 76), (108, 83), (108, 84), (108, 95), (108, 96), (108, 103), (108, 217), (109, 106), (109, 121), (109, 124), (109, 180), (109, 184), (110, 107), (110, 122), (110, 125), (110, 181), (110, 185), (110, 219), (111, 117), (111, 119), (111, 121), (111, 122), (111, 125), (111, 184), (111, 186), (112, 118), (112, 120), (112, 121), (112, 122), (112, 150), (112, 185), (112, 187), (113, 106), (113, 117), (113, 124), (113, 182), (113, 186), (114, 107), (114, 118), (114, 125), (114, 183), (114, 187), (115, 52), (115, 77), (115, 96), (115, 103), (115, 118), (115, 144), (116, 51), (116, 95), (116, 117), (116, 145), (116, 146), (116, 222), (117, 122), (117, 181), (117, 185), (117, 189), (117, 193), (118, 121), (118, 180), (118, 184), (118, 188), (118, 192), (119, 40), (119, 44), (119, 95), (119, 96), (119, 112), (119, 117), (119, 118), (119, 120), (119, 122), (119, 179), (119, 185), (119, 187), (119, 193), (120, 39), (120, 95), (120, 96), (120, 111), (120, 117), (120, 119), (120, 121), (120, 178), (120, 184), (120, 186), (120, 192), (120, 194), (120, 200), (121, 118), (121, 183), (121, 187), (121, 191), (121, 195), (122, 117), (122, 182), (122, 186), (122, 190), (122, 194), (123, 121), (123, 122), (123, 126), (123, 143), (123, 144), (123, 182), (123, 183), (123, 190), (123, 191), (124, 185), (124, 187), (125, 149), (125, 184), (125, 186), (125, 220), (126, 117), (126, 118), (126, 145), (126, 146), (126, 180), (126, 181), (126, 188), (126, 189), (139, 54), (139, 123), (139, 140), (139, 180), (139, 181), (139, 185), (139, 189), (139, 193), (139, 196), (139, 197), (139, 209), (139, 218), (140, 53), (140, 123), (140, 137), (140, 144), (140, 180), (140, 184), (140, 188), (140, 192), (140, 196), (140, 220), (141, 51), (141, 122), (141, 126), (141, 146), (141, 182), (141, 186), (141, 190), (141, 194), (141, 220), (142, 52), (142, 121), (142, 126), (142, 183), (142, 187), (142, 191), (142, 195), (143, 95), (143, 96), (143, 145), (143, 146), (143, 181), (143, 188), (143, 189), (144, 95), (144, 96), (144, 145), (144, 180), (144, 188), (145, 95), (145, 96), (145, 144), (145, 166), (145, 183), (145, 191), (146, 95), (146, 96), (146, 143), (146, 144), (146, 182), (146, 183), (146, 190), (146, 191), (147, 106), (147, 109), (147, 124), (147, 180), (147, 184), (148, 107), (148, 124), (148, 125), (148, 126), (148, 181), (149, 41), (149, 106), (149, 123), (149, 124), (149, 126), (149, 182), (149, 186), (150, 107), (150, 123), (150, 125), (150, 126), (150, 183), (150, 187), (151, 65), (151, 77), (151, 78), (151, 152), (152, 35), (152, 66), (152, 77), (153, 13), (153, 19), (153, 67), (154, 14), (154, 19), (154, 20), (154, 22), (154, 68), (155, 83), (155, 84), (155, 216), (155, 217), (158, 1), (158, 3), (158, 12), (158, 29), (158, 92), (159, 0), (159, 15), (159, 28), (159, 65), (159, 75), (159, 77), (159, 79), (159, 101), (159, 141), (160, 52), (160, 53), (160, 69), (160, 83), (160, 84), (160, 104), (160, 105), (160, 119), (160, 161), (160, 178), (161, 51), (161, 52), (161, 53), (161, 54), (161, 70), (161, 84), (161, 104), (161, 105), (161, 115), (161, 119), (161, 120), (161, 178), (162, 125), (162, 217), (163, 43), (163, 45), (163, 57), (163, 61), (163, 65), (163, 84), (163, 93), (163, 109), (163, 147), (163, 174), (163, 175), (164, 44), (164, 46), (164, 58), (164, 62), (164, 66), (164, 83), (164, 93), (164, 122), (164, 148), (164, 174), (164, 175), (165, 43), (165, 47), (165, 63), (165, 84), (165, 117), (165, 174), (165, 175), (166, 44), (166, 48), (166, 83), (166, 118), (166, 145), (166, 174), (166, 175), (167, 32), (167, 60), (167, 70), (167, 77), (167, 78), (167, 97), (167, 98), (167, 101), (167, 102), (172, 15), (172, 19), (172, 21), (172, 67), (172, 69), (173, 22), (173, 67), (173, 68), (173, 70), (173, 154), (173, 217), (174, 66), (174, 77), (174, 78), (174, 143), (174, 144), (174, 145), (174, 146), (175, 66), (175, 77), (175, 78), (175, 137), (175, 143), (175, 144), (175, 145), (175, 146), (175, 174), (177, 83), (177, 84), (177, 97), (177, 98), (177, 104), (177, 105), (177, 119), (177, 144), (177, 161), (177, 163), (177, 164), (177, 165), (177, 166), (177, 179), (178, 117), (178, 119), (178, 120), (178, 121), (178, 137), (179, 119), (179, 120), (179, 122)])"
      ]
     },
     "execution_count": 181,
     "metadata": {},
     "output_type": "execute_result"
    }
   ],
   "source": [
    "nx_G[2].edges()"
   ]
  },
  {
   "cell_type": "markdown",
   "id": "991445e7",
   "metadata": {},
   "source": [
    "# Extra"
   ]
  },
  {
   "cell_type": "code",
   "execution_count": 109,
   "id": "fd498e5d",
   "metadata": {},
   "outputs": [],
   "source": [
    "sum_pd_1 = data[1].drop(Post_emb, axis=1).drop(Post_emb, axis=0).sum(axis=0)\n",
    "sum_pd_2 = data[1].drop(Post_emb, axis=1).drop(Post_emb, axis=0).sum(axis=1)\n",
    "birth_neuron_from = set()\n",
    "birth_neuron_to = set()\n",
    "for ind in range(len(sum_pd)):\n",
    "    if sum_pd_1[ind]>0:\n",
    "        birth_neuron_from.add(sum_pd_1.index[ind])\n",
    "    if sum_pd_2[ind]>0:\n",
    "        birth_neuron_to.add(sum_pd_2.index[ind])"
   ]
  },
  {
   "cell_type": "code",
   "execution_count": 71,
   "id": "c808fac8",
   "metadata": {},
   "outputs": [
    {
     "name": "stdout",
     "output_type": "stream",
     "text": [
      "[1296, 1889, 2107, 2739, 3965, 4262, 6971, 7394]\n"
     ]
    }
   ],
   "source": [
    "temp_sum = []\n",
    "for dataset_number in range(1, 9):\n",
    "    temp_sum.append(sum(data[dataset_number][birth_neuron].sum()))\n",
    "print(temp_sum)"
   ]
  },
  {
   "cell_type": "code",
   "execution_count": 98,
   "id": "108ab9a7",
   "metadata": {},
   "outputs": [],
   "source": [
    "sum_pd = data[1].sum(axis=0)\n",
    "birth_neuron = set()\n",
    "for ind in range(len(sum_pd)):\n",
    "    if sum_pd[ind]>0:\n",
    "        birth_neuron.add(sum_pd.index[ind])"
   ]
  },
  {
   "cell_type": "code",
   "execution_count": 155,
   "id": "65c71efc",
   "metadata": {},
   "outputs": [
    {
     "data": {
      "text/plain": [
       "950"
      ]
     },
     "execution_count": 155,
     "metadata": {},
     "output_type": "execute_result"
    }
   ],
   "source": [
    "np.count_nonzero(data[2].loc[birth_neuron_to-set(Post_emb), birth_neuron_from-set(Post_emb)].values)"
   ]
  },
  {
   "cell_type": "code",
   "execution_count": 154,
   "id": "2f9fa1b1",
   "metadata": {},
   "outputs": [
    {
     "data": {
      "text/plain": [
       "950"
      ]
     },
     "execution_count": 154,
     "metadata": {},
     "output_type": "execute_result"
    }
   ],
   "source": [
    "sum([17, 15,  5,  1,  1,  5,  0,  1,  4,  3,  1,  2,  3,  5,  3,  9,  4,\n",
    "        6, 11,  5,  3,  2, 10, 10,  3,  4,  6,  7,  3,  3,  1,  8,  4, 15,\n",
    "        4,  8, 16,  2,  1,  6, 16,  5,  2,  2, 10, 11, 15,  3,  4,  7,  6,\n",
    "       15,  3,  4,  4,  5,  2,  5, 13,  1,  1,  9, 14,  4,  5, 14,  3,  7,\n",
    "        2, 11,  6,  5,  2,  1,  4, 12,  5,  7, 18,  4,  3,  6,  2,  6, 20,\n",
    "        2,  5,  7,  3, 18, 14,  2,  2,  2,  4,  3, 13,  7,  6,  5,  4,  0,\n",
    "        4,  3,  4,  3, 20,  3, 16,  2,  5,  8,  4,  3,  2, 15, 13,  7,  5,\n",
    "        4,  7,  4, 11,  5, 13,  2, 10,  4,  5, 11,  2,  2,  5,  1,  6,  2,\n",
    "        1,  6,  4,  6,  4,  2,  4,  3,  9,  5,  9,  3,  3,  6,  3,  4,  7,\n",
    "        1,  4,  6,  9,  1,  4,  3,  1,  2,  3,  1,  4,  3])"
   ]
  },
  {
   "cell_type": "code",
   "execution_count": 158,
   "id": "e2ef5e62",
   "metadata": {},
   "outputs": [],
   "source": [
    "temp = pd.DataFrame()\n",
    "for from_neuron in birth_neuron_from:\n",
    "    from to_neuron in birth_neuron_to:"
   ]
  },
  {
   "cell_type": "code",
   "execution_count": 159,
   "id": "0290c71d",
   "metadata": {},
   "outputs": [
    {
     "data": {
      "text/html": [
       "<div>\n",
       "<style scoped>\n",
       "    .dataframe tbody tr th:only-of-type {\n",
       "        vertical-align: middle;\n",
       "    }\n",
       "\n",
       "    .dataframe tbody tr th {\n",
       "        vertical-align: top;\n",
       "    }\n",
       "\n",
       "    .dataframe thead th {\n",
       "        text-align: right;\n",
       "    }\n",
       "</style>\n",
       "<table border=\"1\" class=\"dataframe\">\n",
       "  <thead>\n",
       "    <tr style=\"text-align: right;\">\n",
       "      <th></th>\n",
       "      <th>pre</th>\n",
       "    </tr>\n",
       "  </thead>\n",
       "  <tbody>\n",
       "    <tr>\n",
       "      <th>0</th>\n",
       "      <td>AIBR</td>\n",
       "    </tr>\n",
       "    <tr>\n",
       "      <th>1</th>\n",
       "      <td>AVKR</td>\n",
       "    </tr>\n",
       "    <tr>\n",
       "      <th>2</th>\n",
       "      <td>ASJR</td>\n",
       "    </tr>\n",
       "    <tr>\n",
       "      <th>3</th>\n",
       "      <td>ADFR</td>\n",
       "    </tr>\n",
       "    <tr>\n",
       "      <th>4</th>\n",
       "      <td>ASIR</td>\n",
       "    </tr>\n",
       "    <tr>\n",
       "      <th>...</th>\n",
       "      <td>...</td>\n",
       "    </tr>\n",
       "    <tr>\n",
       "      <th>136</th>\n",
       "      <td>ASHL</td>\n",
       "    </tr>\n",
       "    <tr>\n",
       "      <th>137</th>\n",
       "      <td>BDUR</td>\n",
       "    </tr>\n",
       "    <tr>\n",
       "      <th>138</th>\n",
       "      <td>PVPR</td>\n",
       "    </tr>\n",
       "    <tr>\n",
       "      <th>139</th>\n",
       "      <td>ADEL</td>\n",
       "    </tr>\n",
       "    <tr>\n",
       "      <th>140</th>\n",
       "      <td>URXL</td>\n",
       "    </tr>\n",
       "  </tbody>\n",
       "</table>\n",
       "<p>141 rows × 1 columns</p>\n",
       "</div>"
      ],
      "text/plain": [
       "      pre\n",
       "0    AIBR\n",
       "1    AVKR\n",
       "2    ASJR\n",
       "3    ADFR\n",
       "4    ASIR\n",
       "..    ...\n",
       "136  ASHL\n",
       "137  BDUR\n",
       "138  PVPR\n",
       "139  ADEL\n",
       "140  URXL\n",
       "\n",
       "[141 rows x 1 columns]"
      ]
     },
     "execution_count": 159,
     "metadata": {},
     "output_type": "execute_result"
    }
   ],
   "source": [
    "temp"
   ]
  },
  {
   "cell_type": "code",
   "execution_count": 45,
   "id": "55e42be7",
   "metadata": {},
   "outputs": [],
   "source": [
    "import numpy as np\n",
    "from nature2021.src.data import data_manager\n",
    "from nature2021.src.data.neuron_info import neuron_list, in_brain, class_members, ntype, npair, nclass, is_postemb, contralateral"
   ]
  },
  {
   "cell_type": "code",
   "execution_count": 46,
   "id": "26a2521a",
   "metadata": {},
   "outputs": [],
   "source": [
    "G = data_manager.get_connections()['count'].copy()\n",
    "G = data_manager.remove_postemb(G)"
   ]
  },
  {
   "cell_type": "code",
   "execution_count": 141,
   "id": "75b1ee4b",
   "metadata": {},
   "outputs": [],
   "source": [
    "G_from_birth =  G[G['Dataset1'] > 0]\n",
    "syn_count = G_from_birth.apply(lambda s: s[s>0].count())"
   ]
  },
  {
   "cell_type": "code",
   "execution_count": 129,
   "id": "1842c5f2",
   "metadata": {},
   "outputs": [
    {
     "data": {
      "text/plain": [
       "dataset\n",
       "Dataset1    1296\n",
       "Dataset2    1417\n",
       "Dataset3    1538\n",
       "Dataset4    1936\n",
       "Dataset5    2617\n",
       "Dataset6    2753\n",
       "Dataset7    4010\n",
       "Dataset8    4343\n",
       "dtype: int64"
      ]
     },
     "execution_count": 129,
     "metadata": {},
     "output_type": "execute_result"
    }
   ],
   "source": [
    "syn_count"
   ]
  },
  {
   "cell_type": "code",
   "execution_count": 142,
   "id": "058077bf",
   "metadata": {},
   "outputs": [
    {
     "data": {
      "text/plain": [
       "dataset\n",
       "Dataset1    775\n",
       "Dataset2    588\n",
       "Dataset3    562\n",
       "Dataset4    594\n",
       "Dataset5    620\n",
       "Dataset6    600\n",
       "Dataset7    633\n",
       "Dataset8    634\n",
       "dtype: int64"
      ]
     },
     "execution_count": 142,
     "metadata": {},
     "output_type": "execute_result"
    }
   ],
   "source": [
    "syn_count"
   ]
  },
  {
   "cell_type": "code",
   "execution_count": 76,
   "id": "0823f7df",
   "metadata": {},
   "outputs": [
    {
     "data": {
      "text/plain": [
       "dataset\n",
       "Dataset1    1.672258\n",
       "Dataset2    2.409864\n",
       "Dataset3    2.736655\n",
       "Dataset4    3.259259\n",
       "Dataset5    4.220968\n",
       "Dataset6    4.588333\n",
       "Dataset7    6.334913\n",
       "Dataset8    6.850158\n",
       "dtype: float64"
      ]
     },
     "execution_count": 76,
     "metadata": {},
     "output_type": "execute_result"
    }
   ],
   "source": [
    "syn_count"
   ]
  },
  {
   "cell_type": "code",
   "execution_count": 114,
   "id": "69a402bb",
   "metadata": {},
   "outputs": [],
   "source": [
    "names1 = set()\n",
    "names2 = set()\n",
    "for i in G_from_birth.index:\n",
    "    names1.add(i[0])\n",
    "for i in G_from_birth.index:\n",
    "    names2.add(i[1])"
   ]
  },
  {
   "cell_type": "code",
   "execution_count": 150,
   "id": "21abba38",
   "metadata": {},
   "outputs": [
    {
     "data": {
      "text/plain": [
       "0"
      ]
     },
     "execution_count": 150,
     "metadata": {},
     "output_type": "execute_result"
    }
   ],
   "source": [
    "len(names1.union(birth_neuron_from) - names1.intersection(birth_neuron_from))"
   ]
  },
  {
   "cell_type": "code",
   "execution_count": 116,
   "id": "8142e5c4",
   "metadata": {},
   "outputs": [
    {
     "data": {
      "text/plain": [
       "0"
      ]
     },
     "execution_count": 116,
     "metadata": {},
     "output_type": "execute_result"
    }
   ],
   "source": [
    "len(names2.union(birth_neuron_to) - names2.intersection(birth_neuron_to))"
   ]
  },
  {
   "cell_type": "code",
   "execution_count": 108,
   "id": "ef64cdd4",
   "metadata": {},
   "outputs": [
    {
     "data": {
      "text/plain": [
       "ADFL     7\n",
       "ADFR     5\n",
       "ADLL     2\n",
       "ADLR     3\n",
       "AFDL     4\n",
       "        ..\n",
       "GLRDR    1\n",
       "GLRL     4\n",
       "GLRR     0\n",
       "GLRVL    4\n",
       "GLRVR    2\n",
       "Length: 206, dtype: int64"
      ]
     },
     "execution_count": 108,
     "metadata": {},
     "output_type": "execute_result"
    }
   ],
   "source": [
    "data[1].drop(Post_emb, axis=1).drop(Post_emb, axis=0).sum(axis=1)"
   ]
  },
  {
   "cell_type": "code",
   "execution_count": 106,
   "id": "a6bc67f4",
   "metadata": {},
   "outputs": [],
   "source": [
    "sum_pd = data[1].loc[temp,:].sum(axis=1)\n",
    "neuron2 = set()\n",
    "for ind in range(len(sum_pd)):\n",
    "    if sum_pd[ind]>0:\n",
    "        neuron2.add(sum_pd.index[ind])"
   ]
  }
 ],
 "metadata": {
  "kernelspec": {
   "display_name": "groel",
   "language": "python",
   "name": "groel"
  },
  "language_info": {
   "codemirror_mode": {
    "name": "ipython",
    "version": 3
   },
   "file_extension": ".py",
   "mimetype": "text/x-python",
   "name": "python",
   "nbconvert_exporter": "python",
   "pygments_lexer": "ipython3",
   "version": "3.7.9"
  }
 },
 "nbformat": 4,
 "nbformat_minor": 5
}
